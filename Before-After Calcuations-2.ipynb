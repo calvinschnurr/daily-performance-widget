{
 "cells": [
  {
   "cell_type": "code",
   "execution_count": 127,
   "id": "8c612333",
   "metadata": {},
   "outputs": [],
   "source": [
    "from datetime import date, timedelta"
   ]
  },
  {
   "cell_type": "code",
   "execution_count": 128,
   "id": "cc84873b",
   "metadata": {},
   "outputs": [],
   "source": [
    "# variables\n",
    "# dates (note: the last date is not included in the calculation)\n",
    "# date format is year, month, date\n",
    "sample_start = date(2023, 8, 2)\n",
    "sample_end = date(2023, 9, 1)\n",
    "\n",
    "sample2_start = date(2023, 9, 5)\n",
    "sample2_end = date(2023, 9, 11)\n",
    "\n",
    "# cost\n",
    "cost = 3690\n",
    "cost2 = 649\n",
    "\n",
    "# conversions\n",
    "conv = 101\n",
    "conv2 = 28"
   ]
  },
  {
   "cell_type": "code",
   "execution_count": 129,
   "id": "e989d094",
   "metadata": {},
   "outputs": [],
   "source": [
    "# formulas\n",
    "# day counts\n",
    "sample_days_count = (sample_end - sample_start).days\n",
    "sample2_days_count = (sample2_end - sample2_start).days\n",
    "\n",
    "# cost\n",
    "cost_per_day = cost / sample_days_count\n",
    "cost2_per_day = cost2 / sample2_days_count\n",
    "after_per_diff = round(((cost2_per_day-cost_per_day)/cost_per_day*100),1)\n",
    "\n",
    "# conversions\n",
    "conv_per_day = conv / sample_days_count\n",
    "conv2_per_day = conv2 / sample2_days_count\n",
    "after_per_diff_conv = round(((conv2_per_day-conv_per_day)/conv_per_day*100),1)\n",
    "\n",
    "# cost per conversion\n",
    "cost_per = cost / conv \n",
    "cost_per2 = cost2 / conv2\n",
    "after_per_diff_cost_per = round(((cost_per2-cost_per)/cost_per*100),1)"
   ]
  },
  {
   "cell_type": "code",
   "execution_count": 130,
   "id": "b760ea22",
   "metadata": {},
   "outputs": [
    {
     "name": "stdout",
     "output_type": "stream",
     "text": [
      "Conversions per day changed by 38.6%, from 3.4 to 4.7\n",
      "The cost per conversion changed by -36.6%, from $36.5 to $23.2\n",
      "The cost per day changed by -12.1%, from $36.5 to $23.2\n"
     ]
    }
   ],
   "source": [
    "#print outs\n",
    "sent_mid = '%, from '\n",
    "sent_mid2 = ' to '\n",
    "sent_mid_dollars = '%, from $'\n",
    "sent_mid2_dollars = ' to $'\n",
    "\n",
    "conv_sent_start = 'Conversions per day changed by '\n",
    "conv_sentence = conv_sent_start + str(after_per_diff_conv) + sent_mid + str(round(conv_per_day,1)) + sent_mid2 + str(round(conv2_per_day,1))\n",
    "print(conv_sentence)\n",
    "\n",
    "cost_per_sent_start = 'The cost per conversion changed by '\n",
    "cost_per_sentence = cost_per_sent_start + str(after_per_diff_cost_per) + sent_mid_dollars + str(round(cost_per,1)) + sent_mid2_dollars + str(round(cost_per2,1))\n",
    "print(cost_per_sentence)\n",
    "\n",
    "cost_sent_start = 'The cost per day changed by '\n",
    "cost_sentence = cost_sent_start + str(after_per_diff) + sent_mid_dollars + str(round(cost_per,1)) + sent_mid2_dollars + str(round(cost_per2,1))\n",
    "print(cost_sentence)"
   ]
  },
  {
   "cell_type": "code",
   "execution_count": null,
   "id": "de32e143",
   "metadata": {},
   "outputs": [],
   "source": []
  }
 ],
 "metadata": {
  "kernelspec": {
   "display_name": "Python 3 (ipykernel)",
   "language": "python",
   "name": "python3"
  },
  "language_info": {
   "codemirror_mode": {
    "name": "ipython",
    "version": 3
   },
   "file_extension": ".py",
   "mimetype": "text/x-python",
   "name": "python",
   "nbconvert_exporter": "python",
   "pygments_lexer": "ipython3",
   "version": "3.9.7"
  }
 },
 "nbformat": 4,
 "nbformat_minor": 5
}
